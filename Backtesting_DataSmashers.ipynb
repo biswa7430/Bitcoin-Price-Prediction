{
  "nbformat": 4,
  "nbformat_minor": 0,
  "metadata": {
    "colab": {
      "provenance": []
    },
    "kernelspec": {
      "name": "python3",
      "display_name": "Python 3"
    },
    "language_info": {
      "name": "python"
    }
  },
  "cells": [
    {
      "cell_type": "code",
      "execution_count": null,
      "metadata": {
        "colab": {
          "base_uri": "https://localhost:8080/"
        },
        "id": "yiYo-Fgm5Hgh",
        "outputId": "9e36b8f9-2243-45db-94e8-66f26ceef140"
      },
      "outputs": [
        {
          "output_type": "stream",
          "name": "stdout",
          "text": [
            "Requirement already satisfied: yfinance in /usr/local/lib/python3.10/dist-packages (0.2.33)\n",
            "Requirement already satisfied: pandas>=1.3.0 in /usr/local/lib/python3.10/dist-packages (from yfinance) (1.5.3)\n",
            "Requirement already satisfied: numpy>=1.16.5 in /usr/local/lib/python3.10/dist-packages (from yfinance) (1.23.5)\n",
            "Requirement already satisfied: requests>=2.31 in /usr/local/lib/python3.10/dist-packages (from yfinance) (2.31.0)\n",
            "Requirement already satisfied: multitasking>=0.0.7 in /usr/local/lib/python3.10/dist-packages (from yfinance) (0.0.11)\n",
            "Requirement already satisfied: lxml>=4.9.1 in /usr/local/lib/python3.10/dist-packages (from yfinance) (4.9.4)\n",
            "Requirement already satisfied: appdirs>=1.4.4 in /usr/local/lib/python3.10/dist-packages (from yfinance) (1.4.4)\n",
            "Requirement already satisfied: pytz>=2022.5 in /usr/local/lib/python3.10/dist-packages (from yfinance) (2023.3.post1)\n",
            "Requirement already satisfied: frozendict>=2.3.4 in /usr/local/lib/python3.10/dist-packages (from yfinance) (2.4.0)\n",
            "Requirement already satisfied: peewee>=3.16.2 in /usr/local/lib/python3.10/dist-packages (from yfinance) (3.17.0)\n",
            "Requirement already satisfied: beautifulsoup4>=4.11.1 in /usr/local/lib/python3.10/dist-packages (from yfinance) (4.11.2)\n",
            "Requirement already satisfied: html5lib>=1.1 in /usr/local/lib/python3.10/dist-packages (from yfinance) (1.1)\n",
            "Requirement already satisfied: soupsieve>1.2 in /usr/local/lib/python3.10/dist-packages (from beautifulsoup4>=4.11.1->yfinance) (2.5)\n",
            "Requirement already satisfied: six>=1.9 in /usr/local/lib/python3.10/dist-packages (from html5lib>=1.1->yfinance) (1.16.0)\n",
            "Requirement already satisfied: webencodings in /usr/local/lib/python3.10/dist-packages (from html5lib>=1.1->yfinance) (0.5.1)\n",
            "Requirement already satisfied: python-dateutil>=2.8.1 in /usr/local/lib/python3.10/dist-packages (from pandas>=1.3.0->yfinance) (2.8.2)\n",
            "Requirement already satisfied: charset-normalizer<4,>=2 in /usr/local/lib/python3.10/dist-packages (from requests>=2.31->yfinance) (3.3.2)\n",
            "Requirement already satisfied: idna<4,>=2.5 in /usr/local/lib/python3.10/dist-packages (from requests>=2.31->yfinance) (3.6)\n",
            "Requirement already satisfied: urllib3<3,>=1.21.1 in /usr/local/lib/python3.10/dist-packages (from requests>=2.31->yfinance) (2.0.7)\n",
            "Requirement already satisfied: certifi>=2017.4.17 in /usr/local/lib/python3.10/dist-packages (from requests>=2.31->yfinance) (2023.11.17)\n"
          ]
        }
      ],
      "source": [
        "!pip install yfinance"
      ]
    },
    {
      "cell_type": "code",
      "source": [
        "import yfinance as yf\n",
        "import matplotlib.pyplot as plt\n",
        "import pandas as pd\n",
        "import numpy as np\n",
        "from datetime import date, timedelta, datetime\n",
        "from time import time\n",
        "from scipy.stats import pearsonr\n",
        "from dataclasses import dataclass\n",
        "import seaborn as sns"
      ],
      "metadata": {
        "id": "EKUDmMUW5TNr"
      },
      "execution_count": null,
      "outputs": []
    },
    {
      "cell_type": "code",
      "source": [
        "#Entering bitcoin symbol for yfinance\n",
        "symbol = 'BTC-USD'"
      ],
      "metadata": {
        "id": "ApVmJL355i-I"
      },
      "execution_count": null,
      "outputs": []
    },
    {
      "cell_type": "code",
      "source": [
        "# function to turn a date into string\n",
        "def date_to_str(d):\n",
        "    return f'{d.year}-{d.month}-{d.day}'"
      ],
      "metadata": {
        "id": "Pt_lrPFM5mCe"
      },
      "execution_count": null,
      "outputs": []
    },
    {
      "cell_type": "code",
      "source": [
        "# function to get the historical prices for a stock\n",
        "def get_ticker_data(symbol, start=None, end=None):\n",
        "    try:\n",
        "        ticker = yf.Ticker(symbol)\n",
        "        hist = ticker.history(start=start, end=end, interval='1d').Close\n",
        "        hist = hist[~hist.isna()]\n",
        "\n",
        "        #day-to-day price difference\n",
        "        diffs = hist.diff()\n",
        "        hist = hist.reset_index()\n",
        "        hist['price_change'] = diffs.values\n",
        "\n",
        "        #casting datetime to date\n",
        "        hist.Date = hist.Date.apply(lambda d: d.date())\n",
        "    except:\n",
        "        return None\n",
        "    return hist.dropna()"
      ],
      "metadata": {
        "id": "Y9ga7xqF5wck"
      },
      "execution_count": null,
      "outputs": []
    },
    {
      "cell_type": "code",
      "source": [
        "# The strategy is defined using a class that includes buy and sell conditions.\n",
        "# Buy conditions may involve periods of stock price increase, while sell conditions may involve periods of decrease.\n",
        "class Strategy:\n",
        "    def __init__(self, buy_condition: tuple, sell_condition: tuple):\n",
        "        #check that both args are size 2 tuples\n",
        "        if type(buy_condition) != tuple or len(buy_condition) != 2 or type(sell_condition) != tuple or len(sell_condition) != 2:\n",
        "            raise Exception('buy_condition and sell_condition should each be size 2 tuples')\n",
        "        buy_dir, buy_periods = buy_condition\n",
        "        sell_dir, sell_periods = sell_condition\n",
        "\n",
        "        #check that the buy and sell condition are increase or decrease\n",
        "        if buy_dir not in ['decrease', 'increase'] or sell_dir not in ['decrease', 'increase']:\n",
        "            raise Exception('first element of each tuple needs to be one of [\"decrease\", \"increase\"]')\n",
        "\n",
        "        #check that the buy or sell periods are positve integers\n",
        "        if type(buy_periods) != int or buy_periods <= 0 or type(sell_periods) != int or sell_periods <= 0:\n",
        "            raise TypeError('second element of each tuple needs to be a positive integer')\n",
        "\n",
        "        #set variables\n",
        "        self.buy_dir = buy_dir\n",
        "        self.buy_periods = buy_periods\n",
        "        self.sell_dir = sell_dir\n",
        "        self.sell_periods = sell_periods"
      ],
      "metadata": {
        "id": "ijpYdX4W54XL"
      },
      "execution_count": null,
      "outputs": []
    },
    {
      "cell_type": "code",
      "source": [
        "def execute_strategy(history, strategy, debug=False):\n",
        "    #start with $100 and no shares, remember inital value\n",
        "    curr_value = 100\n",
        "    initial_value = curr_value\n",
        "    n_shares = 0\n",
        "\n",
        "    #whether or not we're currently holding shares of the stock\n",
        "    currently_holding = False\n",
        "\n",
        "    #number of periods price has decreased or increased\n",
        "    n_periods_dec = 0\n",
        "    n_periods_inc = 0\n",
        "\n",
        "    #backtest our strategy day-by-day\n",
        "    for i,row in history.iterrows():\n",
        "\n",
        "        #update periods of consecutive increasing or decreasing price\n",
        "        if row.price_change < 0:\n",
        "            n_periods_dec += 1\n",
        "            n_periods_inc = 0\n",
        "        elif row.price_change > 0:\n",
        "            n_periods_inc += 1\n",
        "            n_periods_dec = 0\n",
        "\n",
        "        #try to buy only if we aren't currently holding shares\n",
        "        if currently_holding == False:\n",
        "            #buy only if the strategy's buy condition is met\n",
        "            if (strategy.buy_dir == 'decrease' and n_periods_dec == strategy.buy_periods) or (strategy.buy_dir == 'increase' and n_periods_inc == strategy.buy_periods):\n",
        "                #calulate number of shares we can buy\n",
        "                n_shares = curr_value / row.Close\n",
        "                if debug:\n",
        "                    print(f'bought {round(n_shares,2)} shares for ${round(row.Close, 2)} each on {row.Date}\\n')\n",
        "                #we now have no money and are holding shares, and reset periods of increasing or decreasing\n",
        "                curr_value = 0\n",
        "                n_periods_dec = 0\n",
        "                n_periods_inc = 0\n",
        "                currently_holding = True\n",
        "\n",
        "\n",
        "        #try to sell only if we are currently holding shares\n",
        "        if currently_holding == True:\n",
        "            #sell only if the strategy's sell condition is met\n",
        "            if (strategy.sell_dir == 'decrease' and n_periods_dec == strategy.sell_periods) or (strategy.sell_dir == 'increase' and n_periods_inc == strategy.sell_periods):\n",
        "                #get value of shares now\n",
        "                curr_value = row.Close * n_shares\n",
        "                if debug:\n",
        "                    print(f'sold {round(n_shares,2)} shares for ${round(row.Close, 2)} each on {row.Date}\\n')\n",
        "                #we now own no shares, and reset periods of increasing or decreasing\n",
        "                n_shares = 0\n",
        "                n_periods_dec = 0\n",
        "                n_periods_inc = 0\n",
        "                currently_holding = False\n",
        "\n",
        "    #the final value is the max of money we have on hand and the money tied up in shares we currently own\n",
        "    final_val = max(curr_value, row.Close*n_shares)\n",
        "\n",
        "    #returning the percent change from initial value\n",
        "    return 100*(final_val / initial_value - 1)"
      ],
      "metadata": {
        "id": "-2W4fDn05-U8"
      },
      "execution_count": null,
      "outputs": []
    },
    {
      "cell_type": "markdown",
      "source": [
        "### DEFINE STRATEGIES"
      ],
      "metadata": {
        "id": "CL-RTBi66rWx"
      }
    },
    {
      "cell_type": "code",
      "source": [
        "buy_dec2_sell_inc5 = Strategy(\n",
        "    buy_condition=('decrease', 2),\n",
        "    sell_condition=('increase', 5)\n",
        ")"
      ],
      "metadata": {
        "id": "r14BVIVz62ze"
      },
      "execution_count": null,
      "outputs": []
    },
    {
      "cell_type": "code",
      "source": [
        "buy_dec3_sell_inc5 = Strategy(\n",
        "    buy_condition=('decrease', 3),\n",
        "    sell_condition=('increase', 5)\n",
        ")"
      ],
      "metadata": {
        "id": "rb4mbanOz57S"
      },
      "execution_count": null,
      "outputs": []
    },
    {
      "cell_type": "code",
      "source": [
        "strategies = {\n",
        "    'buy_dec2_sell_inc5': buy_dec2_sell_inc5,\n",
        "    'buy_dec3_sell_inc5': buy_dec3_sell_inc5\n",
        "}"
      ],
      "metadata": {
        "id": "O-VTyMzQ64qg"
      },
      "execution_count": null,
      "outputs": []
    },
    {
      "cell_type": "markdown",
      "source": [
        "### BACKTEST"
      ],
      "metadata": {
        "id": "Kgc-_tay6_Ux"
      }
    },
    {
      "cell_type": "code",
      "source": [
        "# we plan to run each strategy for 30 days\n",
        "time_range = 30"
      ],
      "metadata": {
        "id": "oe8H9oRz7DcQ"
      },
      "execution_count": null,
      "outputs": []
    },
    {
      "cell_type": "code",
      "source": [
        "#generating all dates from 2018-01-01 to 2022-01-31\n",
        "all_dates = [date(2018,1,1) + timedelta(i) for i in range(1491)]"
      ],
      "metadata": {
        "id": "Lr-kEgBj7H0G"
      },
      "execution_count": null,
      "outputs": []
    },
    {
      "cell_type": "code",
      "source": [
        "#getting the stock prices for those dates\n",
        "history = get_ticker_data(symbol, start=date_to_str(all_dates[0]), end=date_to_str(all_dates[-1]))"
      ],
      "metadata": {
        "id": "D9j-eLt17g0d"
      },
      "execution_count": null,
      "outputs": []
    },
    {
      "cell_type": "code",
      "source": [
        "history.tail()"
      ],
      "metadata": {
        "colab": {
          "base_uri": "https://localhost:8080/",
          "height": 206
        },
        "id": "tvr_ltvjx5D3",
        "outputId": "c0272700-ba7e-465d-9aba-69ccd6430e5d"
      },
      "execution_count": null,
      "outputs": [
        {
          "output_type": "execute_result",
          "data": {
            "text/plain": [
              "            Date         Close  price_change\n",
              "1485  2022-01-25  36954.003906    299.675781\n",
              "1486  2022-01-26  36852.121094   -101.882812\n",
              "1487  2022-01-27  37138.234375    286.113281\n",
              "1488  2022-01-28  37784.332031    646.097656\n",
              "1489  2022-01-29  38138.179688    353.847656"
            ],
            "text/html": [
              "\n",
              "  <div id=\"df-d3482d83-f1e7-4425-9d56-d64ea0979892\" class=\"colab-df-container\">\n",
              "    <div>\n",
              "<style scoped>\n",
              "    .dataframe tbody tr th:only-of-type {\n",
              "        vertical-align: middle;\n",
              "    }\n",
              "\n",
              "    .dataframe tbody tr th {\n",
              "        vertical-align: top;\n",
              "    }\n",
              "\n",
              "    .dataframe thead th {\n",
              "        text-align: right;\n",
              "    }\n",
              "</style>\n",
              "<table border=\"1\" class=\"dataframe\">\n",
              "  <thead>\n",
              "    <tr style=\"text-align: right;\">\n",
              "      <th></th>\n",
              "      <th>Date</th>\n",
              "      <th>Close</th>\n",
              "      <th>price_change</th>\n",
              "    </tr>\n",
              "  </thead>\n",
              "  <tbody>\n",
              "    <tr>\n",
              "      <th>1485</th>\n",
              "      <td>2022-01-25</td>\n",
              "      <td>36954.003906</td>\n",
              "      <td>299.675781</td>\n",
              "    </tr>\n",
              "    <tr>\n",
              "      <th>1486</th>\n",
              "      <td>2022-01-26</td>\n",
              "      <td>36852.121094</td>\n",
              "      <td>-101.882812</td>\n",
              "    </tr>\n",
              "    <tr>\n",
              "      <th>1487</th>\n",
              "      <td>2022-01-27</td>\n",
              "      <td>37138.234375</td>\n",
              "      <td>286.113281</td>\n",
              "    </tr>\n",
              "    <tr>\n",
              "      <th>1488</th>\n",
              "      <td>2022-01-28</td>\n",
              "      <td>37784.332031</td>\n",
              "      <td>646.097656</td>\n",
              "    </tr>\n",
              "    <tr>\n",
              "      <th>1489</th>\n",
              "      <td>2022-01-29</td>\n",
              "      <td>38138.179688</td>\n",
              "      <td>353.847656</td>\n",
              "    </tr>\n",
              "  </tbody>\n",
              "</table>\n",
              "</div>\n",
              "    <div class=\"colab-df-buttons\">\n",
              "\n",
              "  <div class=\"colab-df-container\">\n",
              "    <button class=\"colab-df-convert\" onclick=\"convertToInteractive('df-d3482d83-f1e7-4425-9d56-d64ea0979892')\"\n",
              "            title=\"Convert this dataframe to an interactive table.\"\n",
              "            style=\"display:none;\">\n",
              "\n",
              "  <svg xmlns=\"http://www.w3.org/2000/svg\" height=\"24px\" viewBox=\"0 -960 960 960\">\n",
              "    <path d=\"M120-120v-720h720v720H120Zm60-500h600v-160H180v160Zm220 220h160v-160H400v160Zm0 220h160v-160H400v160ZM180-400h160v-160H180v160Zm440 0h160v-160H620v160ZM180-180h160v-160H180v160Zm440 0h160v-160H620v160Z\"/>\n",
              "  </svg>\n",
              "    </button>\n",
              "\n",
              "  <style>\n",
              "    .colab-df-container {\n",
              "      display:flex;\n",
              "      gap: 12px;\n",
              "    }\n",
              "\n",
              "    .colab-df-convert {\n",
              "      background-color: #E8F0FE;\n",
              "      border: none;\n",
              "      border-radius: 50%;\n",
              "      cursor: pointer;\n",
              "      display: none;\n",
              "      fill: #1967D2;\n",
              "      height: 32px;\n",
              "      padding: 0 0 0 0;\n",
              "      width: 32px;\n",
              "    }\n",
              "\n",
              "    .colab-df-convert:hover {\n",
              "      background-color: #E2EBFA;\n",
              "      box-shadow: 0px 1px 2px rgba(60, 64, 67, 0.3), 0px 1px 3px 1px rgba(60, 64, 67, 0.15);\n",
              "      fill: #174EA6;\n",
              "    }\n",
              "\n",
              "    .colab-df-buttons div {\n",
              "      margin-bottom: 4px;\n",
              "    }\n",
              "\n",
              "    [theme=dark] .colab-df-convert {\n",
              "      background-color: #3B4455;\n",
              "      fill: #D2E3FC;\n",
              "    }\n",
              "\n",
              "    [theme=dark] .colab-df-convert:hover {\n",
              "      background-color: #434B5C;\n",
              "      box-shadow: 0px 1px 3px 1px rgba(0, 0, 0, 0.15);\n",
              "      filter: drop-shadow(0px 1px 2px rgba(0, 0, 0, 0.3));\n",
              "      fill: #FFFFFF;\n",
              "    }\n",
              "  </style>\n",
              "\n",
              "    <script>\n",
              "      const buttonEl =\n",
              "        document.querySelector('#df-d3482d83-f1e7-4425-9d56-d64ea0979892 button.colab-df-convert');\n",
              "      buttonEl.style.display =\n",
              "        google.colab.kernel.accessAllowed ? 'block' : 'none';\n",
              "\n",
              "      async function convertToInteractive(key) {\n",
              "        const element = document.querySelector('#df-d3482d83-f1e7-4425-9d56-d64ea0979892');\n",
              "        const dataTable =\n",
              "          await google.colab.kernel.invokeFunction('convertToInteractive',\n",
              "                                                    [key], {});\n",
              "        if (!dataTable) return;\n",
              "\n",
              "        const docLinkHtml = 'Like what you see? Visit the ' +\n",
              "          '<a target=\"_blank\" href=https://colab.research.google.com/notebooks/data_table.ipynb>data table notebook</a>'\n",
              "          + ' to learn more about interactive tables.';\n",
              "        element.innerHTML = '';\n",
              "        dataTable['output_type'] = 'display_data';\n",
              "        await google.colab.output.renderOutput(dataTable, element);\n",
              "        const docLink = document.createElement('div');\n",
              "        docLink.innerHTML = docLinkHtml;\n",
              "        element.appendChild(docLink);\n",
              "      }\n",
              "    </script>\n",
              "  </div>\n",
              "\n",
              "\n",
              "<div id=\"df-c90c228f-e570-438a-8daf-3961be06361f\">\n",
              "  <button class=\"colab-df-quickchart\" onclick=\"quickchart('df-c90c228f-e570-438a-8daf-3961be06361f')\"\n",
              "            title=\"Suggest charts\"\n",
              "            style=\"display:none;\">\n",
              "\n",
              "<svg xmlns=\"http://www.w3.org/2000/svg\" height=\"24px\"viewBox=\"0 0 24 24\"\n",
              "     width=\"24px\">\n",
              "    <g>\n",
              "        <path d=\"M19 3H5c-1.1 0-2 .9-2 2v14c0 1.1.9 2 2 2h14c1.1 0 2-.9 2-2V5c0-1.1-.9-2-2-2zM9 17H7v-7h2v7zm4 0h-2V7h2v10zm4 0h-2v-4h2v4z\"/>\n",
              "    </g>\n",
              "</svg>\n",
              "  </button>\n",
              "\n",
              "<style>\n",
              "  .colab-df-quickchart {\n",
              "      --bg-color: #E8F0FE;\n",
              "      --fill-color: #1967D2;\n",
              "      --hover-bg-color: #E2EBFA;\n",
              "      --hover-fill-color: #174EA6;\n",
              "      --disabled-fill-color: #AAA;\n",
              "      --disabled-bg-color: #DDD;\n",
              "  }\n",
              "\n",
              "  [theme=dark] .colab-df-quickchart {\n",
              "      --bg-color: #3B4455;\n",
              "      --fill-color: #D2E3FC;\n",
              "      --hover-bg-color: #434B5C;\n",
              "      --hover-fill-color: #FFFFFF;\n",
              "      --disabled-bg-color: #3B4455;\n",
              "      --disabled-fill-color: #666;\n",
              "  }\n",
              "\n",
              "  .colab-df-quickchart {\n",
              "    background-color: var(--bg-color);\n",
              "    border: none;\n",
              "    border-radius: 50%;\n",
              "    cursor: pointer;\n",
              "    display: none;\n",
              "    fill: var(--fill-color);\n",
              "    height: 32px;\n",
              "    padding: 0;\n",
              "    width: 32px;\n",
              "  }\n",
              "\n",
              "  .colab-df-quickchart:hover {\n",
              "    background-color: var(--hover-bg-color);\n",
              "    box-shadow: 0 1px 2px rgba(60, 64, 67, 0.3), 0 1px 3px 1px rgba(60, 64, 67, 0.15);\n",
              "    fill: var(--button-hover-fill-color);\n",
              "  }\n",
              "\n",
              "  .colab-df-quickchart-complete:disabled,\n",
              "  .colab-df-quickchart-complete:disabled:hover {\n",
              "    background-color: var(--disabled-bg-color);\n",
              "    fill: var(--disabled-fill-color);\n",
              "    box-shadow: none;\n",
              "  }\n",
              "\n",
              "  .colab-df-spinner {\n",
              "    border: 2px solid var(--fill-color);\n",
              "    border-color: transparent;\n",
              "    border-bottom-color: var(--fill-color);\n",
              "    animation:\n",
              "      spin 1s steps(1) infinite;\n",
              "  }\n",
              "\n",
              "  @keyframes spin {\n",
              "    0% {\n",
              "      border-color: transparent;\n",
              "      border-bottom-color: var(--fill-color);\n",
              "      border-left-color: var(--fill-color);\n",
              "    }\n",
              "    20% {\n",
              "      border-color: transparent;\n",
              "      border-left-color: var(--fill-color);\n",
              "      border-top-color: var(--fill-color);\n",
              "    }\n",
              "    30% {\n",
              "      border-color: transparent;\n",
              "      border-left-color: var(--fill-color);\n",
              "      border-top-color: var(--fill-color);\n",
              "      border-right-color: var(--fill-color);\n",
              "    }\n",
              "    40% {\n",
              "      border-color: transparent;\n",
              "      border-right-color: var(--fill-color);\n",
              "      border-top-color: var(--fill-color);\n",
              "    }\n",
              "    60% {\n",
              "      border-color: transparent;\n",
              "      border-right-color: var(--fill-color);\n",
              "    }\n",
              "    80% {\n",
              "      border-color: transparent;\n",
              "      border-right-color: var(--fill-color);\n",
              "      border-bottom-color: var(--fill-color);\n",
              "    }\n",
              "    90% {\n",
              "      border-color: transparent;\n",
              "      border-bottom-color: var(--fill-color);\n",
              "    }\n",
              "  }\n",
              "</style>\n",
              "\n",
              "  <script>\n",
              "    async function quickchart(key) {\n",
              "      const quickchartButtonEl =\n",
              "        document.querySelector('#' + key + ' button');\n",
              "      quickchartButtonEl.disabled = true;  // To prevent multiple clicks.\n",
              "      quickchartButtonEl.classList.add('colab-df-spinner');\n",
              "      try {\n",
              "        const charts = await google.colab.kernel.invokeFunction(\n",
              "            'suggestCharts', [key], {});\n",
              "      } catch (error) {\n",
              "        console.error('Error during call to suggestCharts:', error);\n",
              "      }\n",
              "      quickchartButtonEl.classList.remove('colab-df-spinner');\n",
              "      quickchartButtonEl.classList.add('colab-df-quickchart-complete');\n",
              "    }\n",
              "    (() => {\n",
              "      let quickchartButtonEl =\n",
              "        document.querySelector('#df-c90c228f-e570-438a-8daf-3961be06361f button');\n",
              "      quickchartButtonEl.style.display =\n",
              "        google.colab.kernel.accessAllowed ? 'block' : 'none';\n",
              "    })();\n",
              "  </script>\n",
              "</div>\n",
              "\n",
              "    </div>\n",
              "  </div>\n"
            ]
          },
          "metadata": {},
          "execution_count": 22
        }
      ]
    },
    {
      "cell_type": "code",
      "source": [
        "#storing the results here\n",
        "results = {k: [] for k in strategies.keys()}\n",
        "\n",
        "#executing several simulations, each from a different starting date\n",
        "for start_date in all_dates[:-time_range]:\n",
        "    #getting the end date which is time_range days later\n",
        "    end_date = start_date + timedelta(days=time_range)\n",
        "\n",
        "    #getting the price history between this start and end date\n",
        "    history_lim = history[(history.Date >= start_date) & (history.Date <= end_date)]\n",
        "\n",
        "    start_date = date_to_str(start_date)\n",
        "    end_date = date_to_str(end_date)\n",
        "\n",
        "    #executing each strategy on this historical data\n",
        "    for name, strategy in strategies.items():\n",
        "        return_pct = execute_strategy(history_lim, strategy, debug=False)\n",
        "        results[name].append(return_pct)"
      ],
      "metadata": {
        "id": "5vgh44bb7oiz"
      },
      "execution_count": null,
      "outputs": []
    },
    {
      "cell_type": "markdown",
      "source": [
        "### Plot Results"
      ],
      "metadata": {
        "id": "NwIU_Nb471rb"
      }
    },
    {
      "cell_type": "code",
      "source": [
        "legend = []\n",
        "colors = ['r', 'b', 'g', 'k', 'orange', 'pink', 'gray', 'purple']\n",
        "plt.figure(figsize=(14,5))\n",
        "\n",
        "idx = 0\n",
        "min_return = 1000000\n",
        "max_return = -1000000\n",
        "max_y = -1000000\n",
        "conclusion = f'ticker = {symbol}\\nNo strategy is expected to give positve return'\n",
        "best_avg_return = 0\n",
        "\n",
        "#plotting distributions of returns from each strategy\n",
        "for name, returns in results.items():\n",
        "    distr_plot = sns.histplot(returns, kde=True, line_kws={'linewidth': 2}, color=colors[idx], stat='probability', bins=20)\n",
        "    max_y = max(max_y, distr_plot.get_ybound()[1])\n",
        "    idx += 1\n",
        "    legend.append(name)\n",
        "    min_return = min(min_return, np.min(returns))\n",
        "    max_return = max(max_return, np.max(returns))\n",
        "\n",
        "    avg_return = np.mean(returns)\n",
        "    if avg_return > best_avg_return:\n",
        "        conclusion = f'ticker = {symbol}\\n{name} gives the best average return ({round(avg_return,2)}%)'\n",
        "        best_avg_return = avg_return\n",
        "plt.legend(legend, fontsize=16)\n",
        "plt.title(conclusion, fontsize=20)\n",
        "\n",
        "idx = 0\n",
        "plt.fill_betweenx([0,1], -100, 0, color='r', alpha=0.1)\n",
        "plt.fill_betweenx([0,1], 0, 100, color='g', alpha=0.1)\n",
        "plt.axvline(0, color='k', linestyle='--', linewidth=2, alpha=0.5)\n",
        "for name, returns in results.items():\n",
        "    plt.axvline(np.mean(returns), color=colors[idx], linestyle='--', linewidth=2)\n",
        "    idx += 1\n",
        "\n",
        "plt.xlim(min_return, max_return)\n",
        "plt.ylim(0, max_y)\n",
        "\n",
        "plt.tight_layout()\n",
        "plt.xlabel('Return (%)', fontsize=20)\n",
        "plt.ylabel('Probability', fontsize=20)"
      ],
      "metadata": {
        "colab": {
          "base_uri": "https://localhost:8080/",
          "height": 557
        },
        "id": "TVKW_DjB74dP",
        "outputId": "8df601b4-ed71-4465-bce5-6cae1963d4bd"
      },
      "execution_count": null,
      "outputs": [
        {
          "output_type": "execute_result",
          "data": {
            "text/plain": [
              "Text(128.97222222222223, 0.5, 'Probability')"
            ]
          },
          "metadata": {},
          "execution_count": 44
        },
        {
          "output_type": "display_data",
          "data": {
            "text/plain": [
              "<Figure size 1400x500 with 1 Axes>"
            ],
            "image/png": "[encoded data removed]"
          },
          "metadata": {}
        }
      ]
    },
    {
      "cell_type": "markdown",
      "source": [
        "We can clearly see that we are expected to gain approximatelty 2.85% using the strategy of buying if the price decreases for 2 periods and selling if it increases for five periods over the course of a month but there is more risk involved as well."
      ],
      "metadata": {
        "id": "2pqvhJwkdRV6"
      }
    },
    {
      "cell_type": "code",
      "source": [],
      "metadata": {
        "id": "eHSrAauqhP2H"
      },
      "execution_count": null,
      "outputs": []
    }
  ]
}